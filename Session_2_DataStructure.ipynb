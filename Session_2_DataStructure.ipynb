{
  "nbformat": 4,
  "nbformat_minor": 0,
  "metadata": {
    "colab": {
      "provenance": []
    },
    "kernelspec": {
      "name": "python3",
      "display_name": "Python 3"
    },
    "language_info": {
      "name": "python"
    }
  },
  "cells": [
    {
      "cell_type": "markdown",
      "source": [
        "## Data Structure"
      ],
      "metadata": {
        "id": "Fd2cd_oPNzzJ"
      }
    },
    {
      "cell_type": "markdown",
      "source": [
        "### List"
      ],
      "metadata": {
        "id": "8xpUEGzbN62o"
      }
    },
    {
      "cell_type": "code",
      "source": [
        "empty_list = []"
      ],
      "metadata": {
        "id": "hqYt-zCZOAzG"
      },
      "execution_count": 1,
      "outputs": []
    },
    {
      "cell_type": "code",
      "source": [
        "# List beberapa elemen\n",
        "fruits = ['apple', 'banana', 'orange', 'cherry']\n",
        "fruits"
      ],
      "metadata": {
        "colab": {
          "base_uri": "https://localhost:8080/"
        },
        "id": "StWKm-YvOGh6",
        "outputId": "cb964f07-77a9-4586-bfdd-0c34b6352ae8"
      },
      "execution_count": 3,
      "outputs": [
        {
          "output_type": "execute_result",
          "data": {
            "text/plain": [
              "['apple', 'banana', 'orange', 'cherry']"
            ]
          },
          "metadata": {},
          "execution_count": 3
        }
      ]
    },
    {
      "cell_type": "code",
      "source": [
        "# List dengan beberapa tipe data\n",
        "fruits_stock = ['apple', 20, True, 'banana', 15, False]\n",
        "fruits_stock"
      ],
      "metadata": {
        "colab": {
          "base_uri": "https://localhost:8080/"
        },
        "id": "JgZby-1fOVgh",
        "outputId": "c876241b-776a-4fa7-b1f2-a4eab345e2cd"
      },
      "execution_count": 5,
      "outputs": [
        {
          "output_type": "execute_result",
          "data": {
            "text/plain": [
              "['apple', 20, True, 'banana', 15, False]"
            ]
          },
          "metadata": {},
          "execution_count": 5
        }
      ]
    },
    {
      "cell_type": "code",
      "source": [
        "# List multidimensional\n",
        "makanan = [\n",
        "    ['ayam goreng', 'mie ayam', 'soto ayam'],\n",
        "    ['bakso', 'nugget', ['tepung', 'sapi']]\n",
        "]\n",
        "makanan"
      ],
      "metadata": {
        "colab": {
          "base_uri": "https://localhost:8080/"
        },
        "id": "6i8eU4EhO860",
        "outputId": "15a3d68c-f382-4c0a-d32d-2d58ab850c71"
      },
      "execution_count": 6,
      "outputs": [
        {
          "output_type": "execute_result",
          "data": {
            "text/plain": [
              "[['ayam goreng', 'mie ayam', 'soto ayam'],\n",
              " ['bakso', 'nugget', ['tepung', 'sapi']]]"
            ]
          },
          "metadata": {},
          "execution_count": 6
        }
      ]
    },
    {
      "cell_type": "code",
      "source": [
        "list_minuman = [\n",
        "    ['aqua', 'le mineral', 'ades', 'cleo', ['air kelapa', 'ultramilk']],\n",
        "    ['nescafe', 'good day']\n",
        "]\n",
        "list_minuman"
      ],
      "metadata": {
        "colab": {
          "base_uri": "https://localhost:8080/"
        },
        "id": "WJjooytSPcgm",
        "outputId": "0285c1d4-e23b-4990-9f60-59cf71240deb"
      },
      "execution_count": 7,
      "outputs": [
        {
          "output_type": "execute_result",
          "data": {
            "text/plain": [
              "[['aqua', 'le mineral', 'ades', 'cleo', ['air kelapa', 'ultramilk']],\n",
              " ['nescafe', 'good day']]"
            ]
          },
          "metadata": {},
          "execution_count": 7
        }
      ]
    },
    {
      "cell_type": "code",
      "source": [
        "print(fruits)"
      ],
      "metadata": {
        "colab": {
          "base_uri": "https://localhost:8080/"
        },
        "id": "jBdFdTkfQqYg",
        "outputId": "d00f598b-f34f-4083-a91b-789ddd1cd276"
      },
      "execution_count": 8,
      "outputs": [
        {
          "output_type": "stream",
          "name": "stdout",
          "text": [
            "['apple', 'banana', 'orange', 'cherry']\n"
          ]
        }
      ]
    },
    {
      "cell_type": "code",
      "source": [
        "# Indeks list\n",
        "fruits[1]"
      ],
      "metadata": {
        "colab": {
          "base_uri": "https://localhost:8080/",
          "height": 35
        },
        "id": "VUk2Xq3wQ9BQ",
        "outputId": "eaebe1d1-6bf1-4d9e-86ce-b26f6d0290c0"
      },
      "execution_count": 9,
      "outputs": [
        {
          "output_type": "execute_result",
          "data": {
            "text/plain": [
              "'banana'"
            ],
            "application/vnd.google.colaboratory.intrinsic+json": {
              "type": "string"
            }
          },
          "metadata": {},
          "execution_count": 9
        }
      ]
    },
    {
      "cell_type": "code",
      "source": [
        "fruits[0]"
      ],
      "metadata": {
        "colab": {
          "base_uri": "https://localhost:8080/",
          "height": 35
        },
        "id": "u9_KbVrkR-Ae",
        "outputId": "188f3a17-b279-43ac-fd06-853df57433cb"
      },
      "execution_count": 10,
      "outputs": [
        {
          "output_type": "execute_result",
          "data": {
            "text/plain": [
              "'apple'"
            ],
            "application/vnd.google.colaboratory.intrinsic+json": {
              "type": "string"
            }
          },
          "metadata": {},
          "execution_count": 10
        }
      ]
    },
    {
      "cell_type": "code",
      "source": [
        "fruits[3]"
      ],
      "metadata": {
        "colab": {
          "base_uri": "https://localhost:8080/",
          "height": 35
        },
        "id": "5KWhBPq2SJ5E",
        "outputId": "b38b5f16-4706-4dde-e8d8-0c11b8cd8fcf"
      },
      "execution_count": 11,
      "outputs": [
        {
          "output_type": "execute_result",
          "data": {
            "text/plain": [
              "'cherry'"
            ],
            "application/vnd.google.colaboratory.intrinsic+json": {
              "type": "string"
            }
          },
          "metadata": {},
          "execution_count": 11
        }
      ]
    },
    {
      "cell_type": "code",
      "source": [
        "fruits[-1]"
      ],
      "metadata": {
        "colab": {
          "base_uri": "https://localhost:8080/",
          "height": 35
        },
        "id": "17scQi8OSWWU",
        "outputId": "152f6646-0d3c-4305-ac3e-925527bd9473"
      },
      "execution_count": 12,
      "outputs": [
        {
          "output_type": "execute_result",
          "data": {
            "text/plain": [
              "'cherry'"
            ],
            "application/vnd.google.colaboratory.intrinsic+json": {
              "type": "string"
            }
          },
          "metadata": {},
          "execution_count": 12
        }
      ]
    },
    {
      "cell_type": "code",
      "source": [
        "# indeks list multidimensi\n",
        "# bacanya dari list terluar baru value dari list tersebut\n",
        "makanan[0][0]"
      ],
      "metadata": {
        "colab": {
          "base_uri": "https://localhost:8080/",
          "height": 35
        },
        "id": "z5SoAMIAYEYV",
        "outputId": "bd71e966-d252-4cad-dc29-7de6984c88f7"
      },
      "execution_count": 39,
      "outputs": [
        {
          "output_type": "execute_result",
          "data": {
            "text/plain": [
              "'ayam goreng'"
            ],
            "application/vnd.google.colaboratory.intrinsic+json": {
              "type": "string"
            }
          },
          "metadata": {},
          "execution_count": 39
        }
      ]
    },
    {
      "cell_type": "code",
      "source": [
        "# Cara mengganti value dari list\n",
        "fruits[0] = 'watermelon'\n",
        "print(fruits)"
      ],
      "metadata": {
        "colab": {
          "base_uri": "https://localhost:8080/"
        },
        "id": "geZ24MGqSaYt",
        "outputId": "5b0785c8-c8b9-445f-bd01-413f77533515"
      },
      "execution_count": 13,
      "outputs": [
        {
          "output_type": "stream",
          "name": "stdout",
          "text": [
            "['watermelon', 'banana', 'orange', 'cherry']\n"
          ]
        }
      ]
    },
    {
      "cell_type": "code",
      "source": [
        "# mencari indeks\n",
        "fruits.index('orange')"
      ],
      "metadata": {
        "colab": {
          "base_uri": "https://localhost:8080/"
        },
        "id": "SzrxeyUnSrQ1",
        "outputId": "9b36b1c2-945b-44b6-c29f-d563cde3dec4"
      },
      "execution_count": 14,
      "outputs": [
        {
          "output_type": "execute_result",
          "data": {
            "text/plain": [
              "2"
            ]
          },
          "metadata": {},
          "execution_count": 14
        }
      ]
    },
    {
      "cell_type": "code",
      "source": [
        "# menambahkan elemen dalam list \n",
        "#(append klo aouto pasti datanya di paling terakhir)\n",
        "fruits.append('grape')\n",
        "fruits"
      ],
      "metadata": {
        "colab": {
          "base_uri": "https://localhost:8080/"
        },
        "id": "gPaoGfeIS83Q",
        "outputId": "e57b23db-f5e7-4ceb-ddb0-6a27e43835fb"
      },
      "execution_count": 16,
      "outputs": [
        {
          "output_type": "execute_result",
          "data": {
            "text/plain": [
              "['watermelon', 'banana', 'orange', 'cherry', 'grape', 'grape']"
            ]
          },
          "metadata": {},
          "execution_count": 16
        }
      ]
    },
    {
      "cell_type": "code",
      "source": [
        "# menambahkan elemen ke list berdasrakan indeks\n",
        "fruits.insert(1, 'strawberry')\n",
        "fruits"
      ],
      "metadata": {
        "colab": {
          "base_uri": "https://localhost:8080/"
        },
        "id": "m4mqCYlwTUAi",
        "outputId": "35f5ab79-0fab-4597-9d1b-71f912019460"
      },
      "execution_count": 17,
      "outputs": [
        {
          "output_type": "execute_result",
          "data": {
            "text/plain": [
              "['watermelon', 'strawberry', 'banana', 'orange', 'cherry', 'grape', 'grape']"
            ]
          },
          "metadata": {},
          "execution_count": 17
        }
      ]
    },
    {
      "cell_type": "code",
      "source": [
        "# menghapus elemen dalam list\n",
        "fruits.remove('orange')\n",
        "fruits"
      ],
      "metadata": {
        "colab": {
          "base_uri": "https://localhost:8080/"
        },
        "id": "1AvlnPiTTwEh",
        "outputId": "c472c718-9da2-45e4-afbc-67d84593d123"
      },
      "execution_count": 18,
      "outputs": [
        {
          "output_type": "execute_result",
          "data": {
            "text/plain": [
              "['watermelon', 'strawberry', 'banana', 'cherry', 'grape', 'grape']"
            ]
          },
          "metadata": {},
          "execution_count": 18
        }
      ]
    },
    {
      "cell_type": "code",
      "source": [
        "# menghapus elemen berdasarkan indeks\n",
        "del fruits[0]\n",
        "fruits"
      ],
      "metadata": {
        "colab": {
          "base_uri": "https://localhost:8080/"
        },
        "id": "3xYESlKUT9O1",
        "outputId": "39a25359-c4fb-4ca5-811e-d3fae1c13d58"
      },
      "execution_count": 19,
      "outputs": [
        {
          "output_type": "execute_result",
          "data": {
            "text/plain": [
              "['strawberry', 'banana', 'cherry', 'grape', 'grape']"
            ]
          },
          "metadata": {},
          "execution_count": 19
        }
      ]
    },
    {
      "cell_type": "code",
      "source": [
        "del fruits[3]\n",
        "fruits"
      ],
      "metadata": {
        "colab": {
          "base_uri": "https://localhost:8080/"
        },
        "id": "eZxZkCaMV6dv",
        "outputId": "6ea1bfbc-4b22-4d19-817f-bf3804a532c4"
      },
      "execution_count": 22,
      "outputs": [
        {
          "output_type": "execute_result",
          "data": {
            "text/plain": [
              "['strawberry', 'banana', 'cherry', 'grape']"
            ]
          },
          "metadata": {},
          "execution_count": 22
        }
      ]
    },
    {
      "cell_type": "code",
      "source": [
        "# Chalage time\n",
        "user_id = ['A20', 'A19', 'B17', 'B15', 'C21']\n",
        "# 1. Tambahkan item baru pada list user id baru: 'C25'\n",
        "user_id.append('C25')\n",
        "print(f'menambahkan user id C25: {user_id}')\n",
        "#2. Hapus item pada list user id yaitu id A19 karena sudah tidak aktif\n",
        "user_id.remove('A19')\n",
        "print(f'menghapus user id A19: {user_id}')"
      ],
      "metadata": {
        "colab": {
          "base_uri": "https://localhost:8080/"
        },
        "id": "QgPAEDSmUMEc",
        "outputId": "cdd9d249-01dd-4d83-8c8e-c492eae069f6"
      },
      "execution_count": 20,
      "outputs": [
        {
          "output_type": "stream",
          "name": "stdout",
          "text": [
            "menambahkan user id C25: ['A20', 'A19', 'B17', 'B15', 'C21', 'C25']\n",
            "menghapus user id A19: ['A20', 'B17', 'B15', 'C21', 'C25']\n"
          ]
        }
      ]
    },
    {
      "cell_type": "code",
      "source": [
        "# fungsi basic dalam list\n",
        "# len: menghitung data pada list\n",
        "len(fruits)"
      ],
      "metadata": {
        "colab": {
          "base_uri": "https://localhost:8080/"
        },
        "id": "keQ59TAhVQ-u",
        "outputId": "52b38c5a-a020-46a6-a2fc-28538c33e3e5"
      },
      "execution_count": 23,
      "outputs": [
        {
          "output_type": "execute_result",
          "data": {
            "text/plain": [
              "4"
            ]
          },
          "metadata": {},
          "execution_count": 23
        }
      ]
    },
    {
      "cell_type": "code",
      "source": [
        "# sort: melakukan sorting\n",
        "fruits.sort()\n",
        "fruits"
      ],
      "metadata": {
        "colab": {
          "base_uri": "https://localhost:8080/"
        },
        "id": "pyssKHF-Vzco",
        "outputId": "a0a2ec24-8291-4611-97b5-fc0a84c9f251"
      },
      "execution_count": 25,
      "outputs": [
        {
          "output_type": "execute_result",
          "data": {
            "text/plain": [
              "['banana', 'cherry', 'grape', 'strawberry']"
            ]
          },
          "metadata": {},
          "execution_count": 25
        }
      ]
    },
    {
      "cell_type": "code",
      "source": [
        "# diurutkan berdasarkan huruf besar terlebih dahulu\n",
        "fruits.append('Banana')\n",
        "fruits.append('Cherry')\n",
        "fruits.sort()\n",
        "fruits"
      ],
      "metadata": {
        "colab": {
          "base_uri": "https://localhost:8080/"
        },
        "id": "oW6WnWBrWKUK",
        "outputId": "a00aa792-d324-4cb8-aae9-b6c728c3ac52"
      },
      "execution_count": 27,
      "outputs": [
        {
          "output_type": "execute_result",
          "data": {
            "text/plain": [
              "['Banana',\n",
              " 'Banana',\n",
              " 'Cherry',\n",
              " 'Cherry',\n",
              " 'banana',\n",
              " 'cherry',\n",
              " 'grape',\n",
              " 'strawberry']"
            ]
          },
          "metadata": {},
          "execution_count": 27
        }
      ]
    },
    {
      "cell_type": "code",
      "source": [
        "del fruits[0]\n",
        "del fruits[2]\n",
        "fruits"
      ],
      "metadata": {
        "colab": {
          "base_uri": "https://localhost:8080/"
        },
        "id": "TEI9FRzQWb29",
        "outputId": "b5c7a4c0-1e8c-40dc-eeb9-183d7074c4b3"
      },
      "execution_count": 29,
      "outputs": [
        {
          "output_type": "execute_result",
          "data": {
            "text/plain": [
              "['Banana', 'Cherry', 'banana', 'cherry', 'grape', 'strawberry']"
            ]
          },
          "metadata": {},
          "execution_count": 29
        }
      ]
    },
    {
      "cell_type": "code",
      "source": [
        "#reverse: membalik data\n",
        "fruits.reverse()\n",
        "fruits"
      ],
      "metadata": {
        "colab": {
          "base_uri": "https://localhost:8080/"
        },
        "id": "YJtqGfwTWqzi",
        "outputId": "0fd2d3ac-363b-4acc-8f52-3283aea97627"
      },
      "execution_count": 30,
      "outputs": [
        {
          "output_type": "execute_result",
          "data": {
            "text/plain": [
              "['strawberry', 'grape', 'cherry', 'banana', 'Cherry', 'Banana']"
            ]
          },
          "metadata": {},
          "execution_count": 30
        }
      ]
    },
    {
      "cell_type": "code",
      "source": [
        "# Slicing\n",
        "numbers = [0, 1, 2, 3, 4, 5, 6, 7, 8, 9]"
      ],
      "metadata": {
        "id": "VrGGxEHsW7eo"
      },
      "execution_count": 31,
      "outputs": []
    },
    {
      "cell_type": "code",
      "source": [
        "# mengambil indeks ke 2 sampai indeks ke 6 tapi 6 tidak dihitung\n",
        "# jadi kayak 2 - (6-1)\n",
        "print(numbers[2:6])\n",
        "print(numbers[1:9])\n",
        "print(numbers[:8])\n",
        "print(numbers[2:])"
      ],
      "metadata": {
        "colab": {
          "base_uri": "https://localhost:8080/"
        },
        "id": "c9J01aRsXE6x",
        "outputId": "ce82efd8-0ab3-430a-88f6-1b49bd87d638"
      },
      "execution_count": 36,
      "outputs": [
        {
          "output_type": "stream",
          "name": "stdout",
          "text": [
            "[2, 3, 4, 5]\n",
            "[1, 2, 3, 4, 5, 6, 7, 8]\n",
            "[0, 1, 2, 3, 4, 5, 6, 7]\n",
            "[2, 3, 4, 5, 6, 7, 8, 9]\n"
          ]
        }
      ]
    },
    {
      "cell_type": "code",
      "source": [
        "# Operasi pada list\n",
        "fruits_1 = ['orange', 'apple', 'grape']\n",
        "fruits_2 = ['watermelon', 'cherry']\n",
        "\n",
        "# Operasi penggabungan\n",
        "total_fruits = fruits_1 + fruits_2\n",
        "print(total_fruits)\n",
        "\n",
        "# Operasi perklaian\n",
        "kali = 2\n",
        "total_fruits = total_fruits * kali\n",
        "print(total_fruits)"
      ],
      "metadata": {
        "colab": {
          "base_uri": "https://localhost:8080/"
        },
        "id": "580ZOXMzX5hn",
        "outputId": "f6153670-921b-4fa4-c916-dff3f2b7287f"
      },
      "execution_count": 41,
      "outputs": [
        {
          "output_type": "stream",
          "name": "stdout",
          "text": [
            "['orange', 'apple', 'grape', 'watermelon', 'cherry']\n",
            "['orange', 'apple', 'grape', 'watermelon', 'cherry', 'orange', 'apple', 'grape', 'watermelon', 'cherry']\n"
          ]
        }
      ]
    },
    {
      "cell_type": "code",
      "source": [
        "# Operasi aritmatika dasar\n",
        "print(max(numbers))\n",
        "print(min(numbers))\n",
        "print(sum(numbers))"
      ],
      "metadata": {
        "colab": {
          "base_uri": "https://localhost:8080/"
        },
        "id": "4bu2GDyoX8Li",
        "outputId": "495ecdb9-3661-4401-f618-cec73eb65b94"
      },
      "execution_count": 43,
      "outputs": [
        {
          "output_type": "stream",
          "name": "stdout",
          "text": [
            "9\n",
            "0\n",
            "45\n"
          ]
        }
      ]
    },
    {
      "cell_type": "code",
      "source": [
        "# Challage time\n",
        "number = [12, 14, 15, 10, 20]\n",
        "# 1. Lakukan operasi pada list agar menjadi [0, 8, -3, 12, 14, 15, 10, 20]\n",
        "number_2 = [0,8,-3]\n",
        "total_number = number_2 + number\n",
        "total_number\n"
      ],
      "metadata": {
        "colab": {
          "base_uri": "https://localhost:8080/"
        },
        "id": "L3JK7pLrZOWO",
        "outputId": "2a897847-fa0a-4e47-e2cf-53b4206badee"
      },
      "execution_count": 66,
      "outputs": [
        {
          "output_type": "execute_result",
          "data": {
            "text/plain": [
              "[0, 8, -3, 12, 14, 15, 10, 20]"
            ]
          },
          "metadata": {},
          "execution_count": 66
        }
      ]
    },
    {
      "cell_type": "code",
      "source": [
        "# 2 Bagaimana mencari selisih angka terbesar dan terkecil dari list tersebut\n",
        "selisih = max(total_number) - min(total_number)\n",
        "selisih"
      ],
      "metadata": {
        "colab": {
          "base_uri": "https://localhost:8080/"
        },
        "id": "uDbidnTiaW-y",
        "outputId": "25bcc9bf-ae69-42db-9890-47fbb006372e"
      },
      "execution_count": 67,
      "outputs": [
        {
          "output_type": "execute_result",
          "data": {
            "text/plain": [
              "23"
            ]
          },
          "metadata": {},
          "execution_count": 67
        }
      ]
    },
    {
      "cell_type": "code",
      "source": [
        "# 3. filter elemen ke-2 sampai ke-6\n",
        "filter = total_number[1:6]\n",
        "filter"
      ],
      "metadata": {
        "colab": {
          "base_uri": "https://localhost:8080/"
        },
        "id": "E4TAY1SjaYVS",
        "outputId": "4f344191-205a-45c1-9399-4338b52b5056"
      },
      "execution_count": 70,
      "outputs": [
        {
          "output_type": "execute_result",
          "data": {
            "text/plain": [
              "[8, -3, 12, 14, 15]"
            ]
          },
          "metadata": {},
          "execution_count": 70
        }
      ]
    },
    {
      "cell_type": "code",
      "source": [
        "# 4. duplikasi sebanyak 2 kali\n",
        "kali = 2\n",
        "duplicate = filter * 2\n",
        "duplicate"
      ],
      "metadata": {
        "colab": {
          "base_uri": "https://localhost:8080/"
        },
        "id": "2l3Ehh5Zaov5",
        "outputId": "697d6e9a-1445-4459-a0e3-7f500f759541"
      },
      "execution_count": 71,
      "outputs": [
        {
          "output_type": "execute_result",
          "data": {
            "text/plain": [
              "[8, -3, 12, 14, 15, 8, -3, 12, 14, 15]"
            ]
          },
          "metadata": {},
          "execution_count": 71
        }
      ]
    },
    {
      "cell_type": "markdown",
      "source": [
        "### Tuple"
      ],
      "metadata": {
        "id": "mITjIe2UePR3"
      }
    },
    {
      "cell_type": "code",
      "source": [
        "empty_tuple = ()"
      ],
      "metadata": {
        "id": "ILpFIDHTeR7m"
      },
      "execution_count": 72,
      "outputs": []
    },
    {
      "cell_type": "code",
      "source": [
        "cuts_id = ('A1', 'A2', 'A3', 'B1', 'B2')\n",
        "print(cuts_id)"
      ],
      "metadata": {
        "colab": {
          "base_uri": "https://localhost:8080/"
        },
        "id": "mRONFQ8RjUjQ",
        "outputId": "64cd784d-050f-48c4-d490-fd8d0178bdea"
      },
      "execution_count": 73,
      "outputs": [
        {
          "output_type": "stream",
          "name": "stdout",
          "text": [
            "('A1', 'A2', 'A3', 'B1', 'B2')\n"
          ]
        }
      ]
    },
    {
      "cell_type": "code",
      "source": [
        "# akses element\n",
        "cuts_id[-1]"
      ],
      "metadata": {
        "colab": {
          "base_uri": "https://localhost:8080/",
          "height": 35
        },
        "id": "mKpo5N7Kjo0r",
        "outputId": "4d47a60e-3855-43c0-c73f-9127759014a3"
      },
      "execution_count": 76,
      "outputs": [
        {
          "output_type": "execute_result",
          "data": {
            "text/plain": [
              "'B2'"
            ],
            "application/vnd.google.colaboratory.intrinsic+json": {
              "type": "string"
            }
          },
          "metadata": {},
          "execution_count": 76
        }
      ]
    },
    {
      "cell_type": "code",
      "source": [
        "# menambahkan element baru\n",
        "# apabila ingin ditambahkan data baru hrus berbentuk tuple juga\n",
        "# digunakan agar data lebih secure dan tidak bisa diubah\n",
        "cust_id_baru = ('C1', 'C2')\n",
        "cust_id = cuts_id + cust_id_baru\n",
        "print(cust_id)"
      ],
      "metadata": {
        "colab": {
          "base_uri": "https://localhost:8080/"
        },
        "id": "s-K4I_HBj8UD",
        "outputId": "ad286a56-66da-4488-d8ca-66e3acf0db50"
      },
      "execution_count": 77,
      "outputs": [
        {
          "output_type": "stream",
          "name": "stdout",
          "text": [
            "('A1', 'A2', 'A3', 'B1', 'B2', 'C1', 'C2')\n"
          ]
        }
      ]
    },
    {
      "cell_type": "code",
      "source": [
        "# fungsi untuk tuple\n",
        "\n",
        "# len: panjang data dari tuple\n",
        "len(cuts_id)"
      ],
      "metadata": {
        "colab": {
          "base_uri": "https://localhost:8080/"
        },
        "id": "vi1NAh4GkPlc",
        "outputId": "7ba84075-af6f-43f1-a1cb-d2fee4ac1894"
      },
      "execution_count": 79,
      "outputs": [
        {
          "output_type": "execute_result",
          "data": {
            "text/plain": [
              "5"
            ]
          },
          "metadata": {},
          "execution_count": 79
        }
      ]
    },
    {
      "cell_type": "code",
      "source": [
        "# count: menghitung\n",
        "cuts_id.count('A1')"
      ],
      "metadata": {
        "colab": {
          "base_uri": "https://localhost:8080/"
        },
        "id": "9TD3yLDEkv5h",
        "outputId": "91f5806c-d828-4af1-ac99-7bab1d898ac4"
      },
      "execution_count": 80,
      "outputs": [
        {
          "output_type": "execute_result",
          "data": {
            "text/plain": [
              "1"
            ]
          },
          "metadata": {},
          "execution_count": 80
        }
      ]
    },
    {
      "cell_type": "code",
      "source": [
        "# melakuka indexing\n",
        "cust_id.index('C1')"
      ],
      "metadata": {
        "colab": {
          "base_uri": "https://localhost:8080/"
        },
        "id": "Jz_sexj7k4t6",
        "outputId": "73021d65-c0d4-4ecb-cd25-c967e4d00575"
      },
      "execution_count": 82,
      "outputs": [
        {
          "output_type": "execute_result",
          "data": {
            "text/plain": [
              "5"
            ]
          },
          "metadata": {},
          "execution_count": 82
        }
      ]
    },
    {
      "cell_type": "code",
      "source": [
        "# sclicing\n",
        "cust_id[:5]"
      ],
      "metadata": {
        "colab": {
          "base_uri": "https://localhost:8080/"
        },
        "id": "V15bk7q9lAlW",
        "outputId": "d0aec1dd-4965-4dc8-9928-929500b53301"
      },
      "execution_count": 83,
      "outputs": [
        {
          "output_type": "execute_result",
          "data": {
            "text/plain": [
              "('A1', 'A2', 'A3', 'B1', 'B2')"
            ]
          },
          "metadata": {},
          "execution_count": 83
        }
      ]
    },
    {
      "cell_type": "markdown",
      "source": [
        "### Dictionary"
      ],
      "metadata": {
        "id": "wXR-pNFdlb5i"
      }
    },
    {
      "cell_type": "code",
      "source": [
        "empty_dictionary = {}"
      ],
      "metadata": {
        "id": "ttyKLGhqlOqd"
      },
      "execution_count": 84,
      "outputs": []
    },
    {
      "cell_type": "code",
      "source": [
        "fruits_stock = {\n",
        "    'apple': 50,\n",
        "    'watermelon': 100,\n",
        "    'cherry': 15,\n",
        "    'orange': 8\n",
        "}\n",
        "fruits_stock"
      ],
      "metadata": {
        "colab": {
          "base_uri": "https://localhost:8080/"
        },
        "id": "6yx16yQ7lzv7",
        "outputId": "28647193-54fa-42a4-af7e-a258d48e31af"
      },
      "execution_count": 85,
      "outputs": [
        {
          "output_type": "execute_result",
          "data": {
            "text/plain": [
              "{'apple': 50, 'watermelon': 100, 'cherry': 15, 'orange': 8}"
            ]
          },
          "metadata": {},
          "execution_count": 85
        }
      ]
    },
    {
      "cell_type": "code",
      "source": [
        "# dictionary dengan multidimensi dan multi elemen\n",
        "customer = {\n",
        "    'id': ['A1', 'A2'],\n",
        "    'nama': ['Budi', 'Andi'],\n",
        "    'umur': [15, 14]\n",
        "}\n",
        "customer"
      ],
      "metadata": {
        "colab": {
          "base_uri": "https://localhost:8080/"
        },
        "id": "Tm0xSuq9mdfI",
        "outputId": "456f1820-83d1-43f1-bbad-d9afee3a6bdb"
      },
      "execution_count": 87,
      "outputs": [
        {
          "output_type": "execute_result",
          "data": {
            "text/plain": [
              "{'id': ['A1', 'A2'], 'nama': ['Budi', 'Andi'], 'umur': [15, 14]}"
            ]
          },
          "metadata": {},
          "execution_count": 87
        }
      ]
    },
    {
      "cell_type": "code",
      "source": [
        "customer_1 = {\n",
        "    'nama': 'Anton',\n",
        "    'Hobi': ['berenang', 'bermain game', 'belajar python']\n",
        "}\n",
        "customer_1"
      ],
      "metadata": {
        "colab": {
          "base_uri": "https://localhost:8080/"
        },
        "id": "wzSvyVofmzBE",
        "outputId": "bc3bd9d6-6540-4389-b7f9-953dc3d083cf"
      },
      "execution_count": 88,
      "outputs": [
        {
          "output_type": "execute_result",
          "data": {
            "text/plain": [
              "{'nama': 'Anton', 'Hobi': ['berenang', 'bermain game', 'belajar python']}"
            ]
          },
          "metadata": {},
          "execution_count": 88
        }
      ]
    },
    {
      "cell_type": "code",
      "source": [
        "# mengakses dictionary\n",
        "fruits_stock['orange']"
      ],
      "metadata": {
        "colab": {
          "base_uri": "https://localhost:8080/"
        },
        "id": "P1z-ywfLnUy4",
        "outputId": "3551f363-7822-4c8f-fabf-65715c02c18f"
      },
      "execution_count": 89,
      "outputs": [
        {
          "output_type": "execute_result",
          "data": {
            "text/plain": [
              "8"
            ]
          },
          "metadata": {},
          "execution_count": 89
        }
      ]
    },
    {
      "cell_type": "code",
      "source": [
        "# mengganti nilai elemen\n",
        "fruits_stock['orange'] = 50\n",
        "fruits_stock"
      ],
      "metadata": {
        "colab": {
          "base_uri": "https://localhost:8080/"
        },
        "id": "e_kHLkWwniaB",
        "outputId": "ad5993e3-b798-4c32-f7eb-348f386d4b1a"
      },
      "execution_count": 90,
      "outputs": [
        {
          "output_type": "execute_result",
          "data": {
            "text/plain": [
              "{'apple': 50, 'watermelon': 100, 'cherry': 15, 'orange': 50}"
            ]
          },
          "metadata": {},
          "execution_count": 90
        }
      ]
    },
    {
      "cell_type": "code",
      "source": [
        "# jika ingin menambahkan dan menghapus lakukanlah seperti list\n",
        "customer['nama']\n",
        "customer['nama'][0]"
      ],
      "metadata": {
        "colab": {
          "base_uri": "https://localhost:8080/",
          "height": 35
        },
        "id": "N63FTR3kn9Sa",
        "outputId": "0782635a-b580-4826-f09e-097ad7d732b3"
      },
      "execution_count": 92,
      "outputs": [
        {
          "output_type": "execute_result",
          "data": {
            "text/plain": [
              "'Budi'"
            ],
            "application/vnd.google.colaboratory.intrinsic+json": {
              "type": "string"
            }
          },
          "metadata": {},
          "execution_count": 92
        }
      ]
    },
    {
      "cell_type": "code",
      "source": [
        "# challange Time\n",
        "customer = {\n",
        "    'id': ['C1', 'C2', 'C3'],\n",
        "    'nama': ['Adi', 'Budi', 'Dani'],\n",
        "    'umur': [25, 19, 30]\n",
        "}\n",
        "\n",
        "# 1. ambil elemen pertama dari key nama\n",
        "print('elemen pertama nama:', customer['nama'][0])\n",
        "# 2. ambil list umur\n",
        "print('list umur:', customer['umur'])\n",
        "#3. ambil elemen kedua dari key 'id\n",
        "print('key elemen key kedua id:', customer['id'][1])"
      ],
      "metadata": {
        "colab": {
          "base_uri": "https://localhost:8080/"
        },
        "id": "tDXbtzW6oJgn",
        "outputId": "b9269da5-c70a-4474-a46c-569ef6a1d561"
      },
      "execution_count": 116,
      "outputs": [
        {
          "output_type": "stream",
          "name": "stdout",
          "text": [
            "elemen pertama nama: Adi\n",
            "list umur: [25, 19, 30]\n",
            "key elemen key kedua id: C2\n"
          ]
        }
      ]
    },
    {
      "cell_type": "code",
      "source": [
        "# menghapus key-value\n",
        "del fruits_stock['cherry']\n",
        "print(fruits_stock)"
      ],
      "metadata": {
        "colab": {
          "base_uri": "https://localhost:8080/"
        },
        "id": "Y8GugigJpd67",
        "outputId": "19024c91-d8b1-4069-a0f4-6cc74db64b69"
      },
      "execution_count": 96,
      "outputs": [
        {
          "output_type": "stream",
          "name": "stdout",
          "text": [
            "{'apple': 50, 'watermelon': 100, 'orange': 50}\n"
          ]
        }
      ]
    },
    {
      "cell_type": "code",
      "source": [
        "fruits_stock.get('watermelon')"
      ],
      "metadata": {
        "colab": {
          "base_uri": "https://localhost:8080/"
        },
        "id": "FO5H6iwvr2vV",
        "outputId": "bf18994f-1300-49a1-c256-f271187c20e9"
      },
      "execution_count": 97,
      "outputs": [
        {
          "output_type": "execute_result",
          "data": {
            "text/plain": [
              "100"
            ]
          },
          "metadata": {},
          "execution_count": 97
        }
      ]
    },
    {
      "cell_type": "code",
      "source": [
        "# Akses seluruh key\n",
        "list(fruits_stock.keys())"
      ],
      "metadata": {
        "colab": {
          "base_uri": "https://localhost:8080/"
        },
        "id": "PpSs-dyesA-Z",
        "outputId": "b2854c14-cafe-4b05-f0bb-2b95480c49ca"
      },
      "execution_count": 98,
      "outputs": [
        {
          "output_type": "execute_result",
          "data": {
            "text/plain": [
              "['apple', 'watermelon', 'orange']"
            ]
          },
          "metadata": {},
          "execution_count": 98
        }
      ]
    },
    {
      "cell_type": "code",
      "source": [
        "# akses seluruh values\n",
        "list(fruits_stock.values())"
      ],
      "metadata": {
        "colab": {
          "base_uri": "https://localhost:8080/"
        },
        "id": "EGEZv0SlsXkd",
        "outputId": "f31dc8ff-3e23-4aba-dd8f-45e6bb0ff0f5"
      },
      "execution_count": 100,
      "outputs": [
        {
          "output_type": "execute_result",
          "data": {
            "text/plain": [
              "[50, 100, 50]"
            ]
          },
          "metadata": {},
          "execution_count": 100
        }
      ]
    },
    {
      "cell_type": "code",
      "source": [
        "# Akses seluruh keys dan values\n",
        "list(fruits_stock.items())"
      ],
      "metadata": {
        "colab": {
          "base_uri": "https://localhost:8080/"
        },
        "id": "-3OwHya4se0-",
        "outputId": "f7058106-225f-4b27-d00e-dad3a86f51ea"
      },
      "execution_count": 102,
      "outputs": [
        {
          "output_type": "execute_result",
          "data": {
            "text/plain": [
              "[('apple', 50), ('watermelon', 100), ('orange', 50)]"
            ]
          },
          "metadata": {},
          "execution_count": 102
        }
      ]
    },
    {
      "cell_type": "code",
      "source": [
        "# menambahkan dictionary baru\n",
        "# dictionary basicnya adalah string, dia tidak memiliki index\n",
        "fruits_stock.update({'melon': 45})\n",
        "fruits_stock"
      ],
      "metadata": {
        "colab": {
          "base_uri": "https://localhost:8080/"
        },
        "id": "kZVl15YLstIa",
        "outputId": "21d7b820-df91-4a35-f97c-84d488a74366"
      },
      "execution_count": 103,
      "outputs": [
        {
          "output_type": "execute_result",
          "data": {
            "text/plain": [
              "{'apple': 50, 'watermelon': 100, 'orange': 50, 'melon': 45}"
            ]
          },
          "metadata": {},
          "execution_count": 103
        }
      ]
    },
    {
      "cell_type": "code",
      "source": [
        "# Challange Time\n",
        "# 1. ternyata elemen pertama di key umur (umur adi) seharusnya bernilai 20, updatelah umur tsb\n",
        "customer['umur'][0] = 20\n",
        "customer"
      ],
      "metadata": {
        "colab": {
          "base_uri": "https://localhost:8080/"
        },
        "id": "3TAMCXrjtiSV",
        "outputId": "6b706445-29d0-4aec-97ff-c4bf4970c17f"
      },
      "execution_count": 117,
      "outputs": [
        {
          "output_type": "execute_result",
          "data": {
            "text/plain": [
              "{'id': ['C1', 'C2', 'C3'],\n",
              " 'nama': ['Adi', 'Budi', 'Dani'],\n",
              " 'umur': [20, 19, 30]}"
            ]
          },
          "metadata": {},
          "execution_count": 117
        }
      ]
    },
    {
      "cell_type": "code",
      "source": [
        "# 2. Ternyata customer terakhir seharusnya adalah 'Dina'. Updatelah nama tersebut\n",
        "customer['nama'][2] = 'Dina'\n",
        "customer"
      ],
      "metadata": {
        "colab": {
          "base_uri": "https://localhost:8080/"
        },
        "id": "bL-bJHixuqzc",
        "outputId": "2d4792d5-c4f1-40a5-baae-0517421a9d47"
      },
      "execution_count": 118,
      "outputs": [
        {
          "output_type": "execute_result",
          "data": {
            "text/plain": [
              "{'id': ['C1', 'C2', 'C3'],\n",
              " 'nama': ['Adi', 'Budi', 'Dina'],\n",
              " 'umur': [20, 19, 30]}"
            ]
          },
          "metadata": {},
          "execution_count": 118
        }
      ]
    },
    {
      "cell_type": "code",
      "source": [
        "# 1. Tambahkan key dan value baru yaitu 'tempat tinggal':['Bandung', 'Jakarta,'Bogor]\n",
        "customer.update({'tempat tinggal': ['Bandung', 'Jakarta', 'Bogor']})\n",
        "customer"
      ],
      "metadata": {
        "colab": {
          "base_uri": "https://localhost:8080/"
        },
        "id": "Q-ADRB3lu0zR",
        "outputId": "99590228-d533-44ee-8c81-086763dd8347"
      },
      "execution_count": 119,
      "outputs": [
        {
          "output_type": "execute_result",
          "data": {
            "text/plain": [
              "{'id': ['C1', 'C2', 'C3'],\n",
              " 'nama': ['Adi', 'Budi', 'Dina'],\n",
              " 'umur': [20, 19, 30],\n",
              " 'tempat tinggal': ['Bandung', 'Jakarta', 'Bogor']}"
            ]
          },
          "metadata": {},
          "execution_count": 119
        }
      ]
    },
    {
      "cell_type": "code",
      "source": [
        "# 2. Tambahkan value baru untuk setiap key\n",
        "customer['id'].append('C4')\n",
        "customer['nama'].append('Ina')\n",
        "customer['umur'].append(22)\n",
        "customer['tempat tinggal'].append('Tangerang')\n",
        "customer"
      ],
      "metadata": {
        "colab": {
          "base_uri": "https://localhost:8080/"
        },
        "id": "QVZQBMlQwf6P",
        "outputId": "4750e901-aee9-4f26-ad93-d8bef129be6f"
      },
      "execution_count": 120,
      "outputs": [
        {
          "output_type": "execute_result",
          "data": {
            "text/plain": [
              "{'id': ['C1', 'C2', 'C3', 'C4'],\n",
              " 'nama': ['Adi', 'Budi', 'Dina', 'Ina'],\n",
              " 'umur': [20, 19, 30, 22],\n",
              " 'tempat tinggal': ['Bandung', 'Jakarta', 'Bogor', 'Tangerang']}"
            ]
          },
          "metadata": {},
          "execution_count": 120
        }
      ]
    },
    {
      "cell_type": "markdown",
      "source": [
        "### Set"
      ],
      "metadata": {
        "id": "88SxyIZGzAbX"
      }
    },
    {
      "cell_type": "code",
      "source": [
        "empty_set =set()"
      ],
      "metadata": {
        "id": "_39jDXZwxAWJ"
      },
      "execution_count": 121,
      "outputs": []
    },
    {
      "cell_type": "code",
      "source": [
        "fruits_set = {'apple', 'banana', 'watermelon', 'cherry'}\n",
        "fruits_set"
      ],
      "metadata": {
        "colab": {
          "base_uri": "https://localhost:8080/"
        },
        "id": "uOu4W6NjzJXO",
        "outputId": "4f43571d-8fc1-499d-bdb5-1f20d3075f5a"
      },
      "execution_count": 122,
      "outputs": [
        {
          "output_type": "execute_result",
          "data": {
            "text/plain": [
              "{'apple', 'banana', 'cherry', 'watermelon'}"
            ]
          },
          "metadata": {},
          "execution_count": 122
        }
      ]
    },
    {
      "cell_type": "code",
      "source": [
        "# maskinnya diurutkan berdasarkan abjad karena tidak punya index\n",
        "fruits_set.add('grape')\n",
        "fruits_set"
      ],
      "metadata": {
        "colab": {
          "base_uri": "https://localhost:8080/"
        },
        "id": "fUO9-mo_zhWj",
        "outputId": "2efb93a4-db2c-4df3-9880-d393aa218cfd"
      },
      "execution_count": 123,
      "outputs": [
        {
          "output_type": "execute_result",
          "data": {
            "text/plain": [
              "{'apple', 'banana', 'cherry', 'grape', 'watermelon'}"
            ]
          },
          "metadata": {},
          "execution_count": 123
        }
      ]
    },
    {
      "cell_type": "code",
      "source": [
        "# menambahkan data\n",
        "fruits_set.update(['manggo', 'coconut'])\n",
        "fruits_set"
      ],
      "metadata": {
        "colab": {
          "base_uri": "https://localhost:8080/"
        },
        "id": "70ZaXTkRzpW4",
        "outputId": "0bf772b6-93c6-467a-c78a-44bec259b93f"
      },
      "execution_count": 124,
      "outputs": [
        {
          "output_type": "execute_result",
          "data": {
            "text/plain": [
              "{'apple', 'banana', 'cherry', 'coconut', 'grape', 'manggo', 'watermelon'}"
            ]
          },
          "metadata": {},
          "execution_count": 124
        }
      ]
    },
    {
      "cell_type": "code",
      "source": [
        "# menghapus data\n",
        "fruits_set.remove('apple')\n",
        "fruits_set"
      ],
      "metadata": {
        "colab": {
          "base_uri": "https://localhost:8080/"
        },
        "id": "zXqtIIgdz4mY",
        "outputId": "84bc02ef-ce07-4752-c43f-32c99e9442f1"
      },
      "execution_count": 125,
      "outputs": [
        {
          "output_type": "execute_result",
          "data": {
            "text/plain": [
              "{'banana', 'cherry', 'coconut', 'grape', 'manggo', 'watermelon'}"
            ]
          },
          "metadata": {},
          "execution_count": 125
        }
      ]
    },
    {
      "cell_type": "code",
      "source": [
        "# dapat melakukan operasi himpunan matematika\n",
        "A = {1, 2, 3, 4, 5}\n",
        "B = {4, 5, 6, 7, 8}\n",
        "\n",
        "#UNION\n",
        "A | B\n",
        "print(A.union(B))"
      ],
      "metadata": {
        "colab": {
          "base_uri": "https://localhost:8080/"
        },
        "id": "lnhh8-SK0AVq",
        "outputId": "8bdda330-3ad0-49c8-8a0e-4d6e3ad6f25a"
      },
      "execution_count": 127,
      "outputs": [
        {
          "output_type": "stream",
          "name": "stdout",
          "text": [
            "{1, 2, 3, 4, 5, 6, 7, 8}\n"
          ]
        }
      ]
    },
    {
      "cell_type": "code",
      "source": [
        "# intersection\n",
        "print(A & B)\n",
        "print(A.intersection(B))"
      ],
      "metadata": {
        "colab": {
          "base_uri": "https://localhost:8080/"
        },
        "id": "4u60Ymht0Ohy",
        "outputId": "2a298909-654b-474f-8f2b-77a13a80bfa8"
      },
      "execution_count": 128,
      "outputs": [
        {
          "output_type": "stream",
          "name": "stdout",
          "text": [
            "{4, 5}\n",
            "{4, 5}\n"
          ]
        }
      ]
    },
    {
      "cell_type": "code",
      "source": [
        "# Difference\n",
        "print(A - B)\n",
        "print(A.difference(B))"
      ],
      "metadata": {
        "colab": {
          "base_uri": "https://localhost:8080/"
        },
        "id": "-BbaQWr20j53",
        "outputId": "7ac48984-c2d4-42b9-a1f6-43e8fbb3a4f6"
      },
      "execution_count": 130,
      "outputs": [
        {
          "output_type": "stream",
          "name": "stdout",
          "text": [
            "{1, 2, 3}\n",
            "{1, 2, 3}\n"
          ]
        }
      ]
    },
    {
      "cell_type": "code",
      "source": [],
      "metadata": {
        "id": "wL0hEhTu0pi6"
      },
      "execution_count": null,
      "outputs": []
    }
  ]
}